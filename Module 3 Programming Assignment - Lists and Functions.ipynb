{
 "cells": [
  {
   "cell_type": "markdown",
   "id": "73874cdb-3577-404e-9110-e0e8a2e98fc7",
   "metadata": {},
   "source": [
    "7.4 Make a list called things with these three strings as elements: \"mozzarella\", \"cinderella\", \"salmonella\"."
   ]
  },
  {
   "cell_type": "code",
   "execution_count": 1,
   "id": "2961e4f1-ec12-49ce-b2bd-4beb7fa04ff6",
   "metadata": {},
   "outputs": [],
   "source": [
    "things = [\"mozzarella\", \"cinderella\", \"salmonella\"]"
   ]
  },
  {
   "cell_type": "markdown",
   "id": "5a9ad0b3-4122-423a-9b99-4777ed2c6948",
   "metadata": {},
   "source": [
    "7.5 Capitalize the element in things that refers to a person and then print the list. Did it change the element in the list?"
   ]
  },
  {
   "cell_type": "code",
   "execution_count": 5,
   "id": "10b35750-6f17-4d3f-9a14-1ca589222abe",
   "metadata": {},
   "outputs": [
    {
     "name": "stdout",
     "output_type": "stream",
     "text": [
      "['mozzarella', 'Cinderella', 'salmonella']\n"
     ]
    }
   ],
   "source": [
    "things = [\"mozzarella\", \"cinderella\", \"salmonella\"]\n",
    "\n",
    "things[1] = things[1].capitalize()\n",
    "print(things)"
   ]
  },
  {
   "cell_type": "markdown",
   "id": "e09177f2-bde2-458e-91e1-3584544b4154",
   "metadata": {},
   "source": [
    "7.6 Make the cheesy element of things all uppercase and then print the list.\r\n"
   ]
  },
  {
   "cell_type": "code",
   "execution_count": 7,
   "id": "a8fd820a-8707-490c-a799-d8403fbe3fbb",
   "metadata": {},
   "outputs": [
    {
     "name": "stdout",
     "output_type": "stream",
     "text": [
      "['MOZZARELLA', 'cinderella', 'salmonella']\n"
     ]
    }
   ],
   "source": [
    "things = [\"mozzarella\", \"cinderella\", \"salmonella\"]\n",
    "\n",
    "things[0] = things[0].upper()\n",
    "print(things)"
   ]
  },
  {
   "cell_type": "markdown",
   "id": "b11f3180-dbca-46c8-9101-01ef00356447",
   "metadata": {},
   "source": [
    "7.7 Delete the disease element from things, collect your Nobel Prize, and print the list.\r\n"
   ]
  },
  {
   "cell_type": "code",
   "execution_count": 9,
   "id": "28a6a0bc-c2df-489e-86f9-61f0ca5b6431",
   "metadata": {},
   "outputs": [
    {
     "name": "stdout",
     "output_type": "stream",
     "text": [
      "['MOZZARELLA', 'Cinderella']\n"
     ]
    }
   ],
   "source": [
    "things = [\"MOZZARELLA\", \"Cinderella\", \"salmonella\"]\n",
    "\n",
    "del things[2]\n",
    "print(things)\n"
   ]
  },
  {
   "cell_type": "markdown",
   "id": "94db3846-ff14-48bd-9d11-4dc54e37a96a",
   "metadata": {},
   "source": [
    "9.1 Define a function called good() that returns the following list: ['Harry', 'Ron', 'Hermione'].\r\n"
   ]
  },
  {
   "cell_type": "code",
   "execution_count": 11,
   "id": "977c21be-0e66-4757-91ed-708be779231c",
   "metadata": {},
   "outputs": [],
   "source": [
    "def good():\n",
    "    return ['Harry','Ron', 'Hermione']"
   ]
  },
  {
   "cell_type": "markdown",
   "id": "c7db0eaa-d551-4213-884a-0b1c3da4c046",
   "metadata": {},
   "source": [
    "9.2 Define a generator function called get_odds() that returns the odd numbers from range(10). Use a for loop to find and print the third value returned.\r\n"
   ]
  },
  {
   "cell_type": "code",
   "execution_count": 17,
   "id": "468e0755-acdc-4bbb-a63b-e5f568b51578",
   "metadata": {},
   "outputs": [
    {
     "name": "stdout",
     "output_type": "stream",
     "text": [
      "5\n"
     ]
    }
   ],
   "source": [
    "def get_odds():\n",
    "    for num in range(10):\n",
    "        if num % 2 != 0:\n",
    "            yield num\n",
    "\n",
    "odds = get_odds()\n",
    "for i, odd in enumerate(odds, start=1):\n",
    "    if i == 3:\n",
    "        print(odd)\n",
    "        break\n"
   ]
  }
 ],
 "metadata": {
  "kernelspec": {
   "display_name": "Python 3 (ipykernel)",
   "language": "python",
   "name": "python3"
  },
  "language_info": {
   "codemirror_mode": {
    "name": "ipython",
    "version": 3
   },
   "file_extension": ".py",
   "mimetype": "text/x-python",
   "name": "python",
   "nbconvert_exporter": "python",
   "pygments_lexer": "ipython3",
   "version": "3.12.4"
  }
 },
 "nbformat": 4,
 "nbformat_minor": 5
}
